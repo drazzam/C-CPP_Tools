{
  "nbformat": 4,
  "nbformat_minor": 0,
  "metadata": {
    "colab": {
      "provenance": []
    },
    "kernelspec": {
      "name": "python3",
      "display_name": "Python 3"
    },
    "language_info": {
      "name": "python"
    }
  },
  "cells": [
    {
      "cell_type": "code",
      "execution_count": null,
      "metadata": {
        "id": "H939DezisrQM"
      },
      "outputs": [],
      "source": [
        "!pip install pytube\n",
        "!pip install opencv-python\n",
        "!pip install ImageHash\n",
        "!pip install fpdf\n",
        "!pip install img2pdf"
      ]
    },
    {
      "cell_type": "code",
      "source": [
        "import cv2\n",
        "import os\n",
        "import tempfile\n",
        "from pytube import YouTube\n",
        "from PIL import Image\n",
        "import img2pdf\n",
        "from imagehash import phash\n",
        "\n",
        "def download_youtube_video(url):\n",
        "    yt = YouTube(url)\n",
        "    stream = yt.streams.filter(file_extension='mp4').get_highest_resolution()\n",
        "    if stream is None:\n",
        "        print(\"No mp4 stream found\")\n",
        "        return None\n",
        "    temp_video_file = tempfile.NamedTemporaryFile(delete=False)\n",
        "    temp_video_file.close()\n",
        "    stream.download(filename=temp_video_file.name)\n",
        "    return temp_video_file.name\n",
        "\n",
        "def process_frames(video_file):\n",
        "    capture = cv2.VideoCapture(video_file)\n",
        "    frame_count = int(capture.get(cv2.CAP_PROP_FRAME_COUNT))\n",
        "    fps = int(capture.get(cv2.CAP_PROP_FPS))\n",
        "    \n",
        "    frames = []\n",
        "    for i in range(0, frame_count, fps):\n",
        "        capture.set(cv2.CAP_PROP_POS_FRAMES, i)\n",
        "        ret, frame = capture.read()\n",
        "        if ret:\n",
        "            frames.append(frame)\n",
        "    capture.release()\n",
        "    return frames\n",
        "\n",
        "def detect_slide_changes(frames):\n",
        "    slide_frames = [frames[0]]\n",
        "    last_frame_hash = phash(Image.fromarray(cv2.cvtColor(frames[0], cv2.COLOR_BGR2RGB)))\n",
        "    for frame in frames[1:]:\n",
        "        current_frame_hash = phash(Image.fromarray(cv2.cvtColor(frame, cv2.COLOR_BGR2RGB)))\n",
        "        if current_frame_hash - last_frame_hash > 10:\n",
        "            slide_frames.append(frame)\n",
        "        last_frame_hash = current_frame_hash\n",
        "    return slide_frames\n",
        "\n",
        "def save_screenshots(slide_frames, output_folder):\n",
        "    if not os.path.exists(output_folder):\n",
        "        os.makedirs(output_folder)\n",
        "    screenshot_paths = []\n",
        "    for i, slide_frame in enumerate(slide_frames):\n",
        "        save_path = os.path.join(output_folder, f'slide_{i+1}.png')\n",
        "        cv2.imwrite(save_path, slide_frame)\n",
        "        screenshot_paths.append(save_path)\n",
        "    return screenshot_paths\n",
        "\n",
        "def convert_screenshots_to_pdf(screenshot_paths, output_pdf_path):\n",
        "    with open(output_pdf_path, \"wb\") as f:\n",
        "        f.write(img2pdf.convert(screenshot_paths))\n",
        "\n",
        "def main():\n",
        "    youtube_video_url = input(\"Enter YouTube video URL: \")\n",
        "    output_folder = input(\"Enter output folder path: \")\n",
        "\n",
        "    video_file = download_youtube_video(youtube_video_url)\n",
        "    if video_file is None:\n",
        "        print(\"Failed to download video\")\n",
        "        return\n",
        "    print(\"Video downloaded\")\n",
        "    frames = process_frames(video_file)\n",
        "    print(\"Frames processed\")\n",
        "    slide_frames = detect_slide_changes(frames)\n",
        "    print(\"Slide changes detected\")\n",
        "    screenshot_paths = save_screenshots(slide_frames, output_folder)\n",
        "    print(\"Screenshots saved\")\n",
        "    output_pdf_path = os.path.join(output_folder, \"slides.pdf\")\n",
        "    convert_screenshots_to_pdf(screenshot_paths, output_pdf_path)\n",
        "    print(\"Screenshots converted and merged into PDF\")\n",
        "    os.remove(video_file)\n",
        "\n",
        "if __name__ == '__main__':\n",
        "    main()"
      ],
      "metadata": {
        "colab": {
          "base_uri": "https://localhost:8080/"
        },
        "id": "9T5ZYz_bstjc",
        "outputId": "2c5720a2-b97c-4e32-a109-b14788b91c24"
      },
      "execution_count": null,
      "outputs": [
        {
          "output_type": "stream",
          "name": "stdout",
          "text": [
            "Enter YouTube video URL: https://www.youtube.com/watch?v=lLo09ZKA0ZM\n",
            "Enter output folder path: shots\n",
            "Video downloaded\n"
          ]
        }
      ]
    }
  ]
}